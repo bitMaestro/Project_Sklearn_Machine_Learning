{
 "cells": [
  {
   "cell_type": "code",
   "execution_count": 1,
   "metadata": {
    "collapsed": true,
    "scrolled": true
   },
   "outputs": [],
   "source": [
    "import sys\n",
    "sys.path.append(\"../tools\")\n",
    "%run import_modules.py"
   ]
  },
  {
   "cell_type": "markdown",
   "metadata": {},
   "source": [
    "## Machine Learning\n",
    "#### Tarique Hasheem"
   ]
  },
  {
   "cell_type": "markdown",
   "metadata": {},
   "source": [
    "***"
   ]
  },
  {
   "cell_type": "markdown",
   "metadata": {},
   "source": [
    "## Table of Content\n",
    "\n",
    "* Understanding the DataSet\n",
    "* Outlier Investigation\n",
    "\t* A Word on Outliers\n",
    "* New Features\n",
    "* Feature Selection\n",
    "\t* Feature Scaling\n",
    "* New Feature Testing\n",
    "* Splitting the Data\n",
    "    * Random Forest with Engineered Feature\n",
    "        * Shuffle, Split, Stratified Shuffle Split,  Cross Validation\n",
    "        * Shuffle Split\n",
    "        * Stratified Shuffle Split\n",
    "        * Engineered Feature: Split Summary\n",
    "        * Feature Importance With Engineered Feature\n",
    "        * Summary: With Engineered Feature\n",
    "    * Random Forest Without Engineered Feature\n",
    "        * Shuffle Split\n",
    "        * Stratified Shuffle Split\n",
    "        * Summary: Engineered Feature Performance\n",
    "* Additional Classifiers\n",
    "\t* Gaussian\n",
    "\t* SVC With Engineered Feature\n",
    "    * SVC Without Engineered Feature\n",
    "* Feature Summary\n",
    "* Tune an Algorithm\n",
    "\t* Gradient Boosting Classifier\n",
    "* Validate and Evaluate\n",
    "\t* Define Parameter Tuning\n",
    "\t* Define Evaluate\n",
    "\t* Define Validate\n",
    "\t* Defining Precision and Recall\n"
   ]
  },
  {
   "cell_type": "markdown",
   "metadata": {},
   "source": [
    "***"
   ]
  },
  {
   "cell_type": "markdown",
   "metadata": {
    "collapsed": true
   },
   "source": [
    "### UNDERSTANDING THE DATASET"
   ]
  },
  {
   "cell_type": "markdown",
   "metadata": {},
   "source": [
    "\n",
    "The goal of the project was to identify 'persons of interest' in \n",
    "the Enron case. Enron was a large energy corporation and extremely \n",
    "successful until its luck ran out in the late 90's. The company \n",
    "eventually filed for BK and a number of its executives were \n",
    "charged with fraud.\n",
    "\n",
    "The dataset has three groups of features, (i) financial features, \n",
    "(ii) email features, and (iii) POI labels.  The goal is to see if\n",
    "machine learning can pick out persons of interest from instances and\n",
    "their respected features.  \n",
    "\n",
    "Yes, the dataset had outliers.  One way to handle outliers was to allow\n",
    "Pandas to do the heavy lifting.  A clear explanation of the outliers\n",
    "process has been documented in the html file for those interested in \n",
    "taking a peak.  "
   ]
  },
  {
   "cell_type": "markdown",
   "metadata": {
    "collapsed": true
   },
   "source": [
    "To understand the dataset we will use the Pandas libray.  Pandas will allow us to import the pickle file, then create a Pandas DataFrame to help us answer:\n",
    "\n",
    "* total number of data points\n",
    "* allocation across classes (POI/non-POI)\n",
    "* number of features used\n",
    "* are there features with many missing values"
   ]
  },
  {
   "cell_type": "markdown",
   "metadata": {},
   "source": [
    "Working with our data set will be less of a task if we take advatage of Pandas.  The code below will:\n",
    "\n",
    "* read pickle file into Pandas\n",
    "* convert the imported pickle file into a Pandas dataframe\n",
    "* save the dataframe into a csv for better manipulation of data\n",
    "* read the csv file into a dataframe\n",
    "\n",
    "I know its a process however Pandas and csv files are like a match made in data heaven somewhere."
   ]
  },
  {
   "cell_type": "code",
   "execution_count": 2,
   "metadata": {
    "collapsed": true,
    "scrolled": true
   },
   "outputs": [],
   "source": [
    "import pandas as pd\n",
    "pikl = pd.read_pickle('final_project_dataset.pkl')\n",
    "pdict = pd.DataFrame.from_dict(pikl, orient='index')\n",
    "pdict.to_csv('datafile_1')\n",
    "poi_data = pd.read_csv('datafile_1')\n",
    "poi = poi_data"
   ]
  },
  {
   "cell_type": "markdown",
   "metadata": {},
   "source": [
    "We can now address some of the more pressing question about the data set such as shape and data types in columns"
   ]
  },
  {
   "cell_type": "code",
   "execution_count": 3,
   "metadata": {
    "scrolled": true
   },
   "outputs": [
    {
     "name": "stdout",
     "output_type": "stream",
     "text": [
      "The shape of our data: (146, 22)\n",
      "\n",
      "There are 146 instances and 21 features (1 out of 21 features is for indexing column in pandas).\n"
     ]
    }
   ],
   "source": [
    "print 'The shape of our data:', poi.shape\n",
    "print '\\nThere are 146 instances and 21 features (1 out of 21 features is for indexing column in pandas).'"
   ]
  },
  {
   "cell_type": "code",
   "execution_count": 4,
   "metadata": {
    "scrolled": true
   },
   "outputs": [
    {
     "name": "stdout",
     "output_type": "stream",
     "text": [
      "What sort of data types:\n",
      "\n",
      "Unnamed: 0                    object\n",
      "salary                       float64\n",
      "to_messages                  float64\n",
      "deferral_payments            float64\n",
      "total_payments               float64\n",
      "exercised_stock_options      float64\n",
      "bonus                        float64\n",
      "restricted_stock             float64\n",
      "shared_receipt_with_poi      float64\n",
      "restricted_stock_deferred    float64\n",
      "total_stock_value            float64\n",
      "expenses                     float64\n",
      "loan_advances                float64\n",
      "from_messages                float64\n",
      "other                        float64\n",
      "from_this_person_to_poi      float64\n",
      "poi                             bool\n",
      "director_fees                float64\n",
      "deferred_income              float64\n",
      "long_term_incentive          float64\n",
      "email_address                 object\n",
      "from_poi_to_this_person      float64\n",
      "dtype: object\n"
     ]
    }
   ],
   "source": [
    "print 'What sort of data types:\\n\\n', poi.dtypes"
   ]
  },
  {
   "cell_type": "code",
   "execution_count": 5,
   "metadata": {
    "scrolled": true
   },
   "outputs": [
    {
     "name": "stdout",
     "output_type": "stream",
     "text": [
      "Number of POI in dataset: 18\n"
     ]
    }
   ],
   "source": [
    "print 'Number of POI in dataset:', len(poi[poi.poi == True])"
   ]
  },
  {
   "cell_type": "markdown",
   "metadata": {},
   "source": [
    "Simply printing out the frist 3 rows of our data set we clearly see its quite ugly. Ther are missing values in virtually all fields. It's not a pretty data set for machine learning by any stretch of the imagination, and luckily we have Pandas, Python and Sklearn to help us fix it."
   ]
  },
  {
   "cell_type": "code",
   "execution_count": 6,
   "metadata": {
    "scrolled": true
   },
   "outputs": [
    {
     "data": {
      "text/html": [
       "<div>\n",
       "<style scoped>\n",
       "    .dataframe tbody tr th:only-of-type {\n",
       "        vertical-align: middle;\n",
       "    }\n",
       "\n",
       "    .dataframe tbody tr th {\n",
       "        vertical-align: top;\n",
       "    }\n",
       "\n",
       "    .dataframe thead th {\n",
       "        text-align: right;\n",
       "    }\n",
       "</style>\n",
       "<table border=\"1\" class=\"dataframe\">\n",
       "  <thead>\n",
       "    <tr style=\"text-align: right;\">\n",
       "      <th></th>\n",
       "      <th>Unnamed: 0</th>\n",
       "      <th>salary</th>\n",
       "      <th>to_messages</th>\n",
       "      <th>deferral_payments</th>\n",
       "      <th>total_payments</th>\n",
       "      <th>exercised_stock_options</th>\n",
       "      <th>bonus</th>\n",
       "      <th>restricted_stock</th>\n",
       "      <th>shared_receipt_with_poi</th>\n",
       "      <th>restricted_stock_deferred</th>\n",
       "      <th>...</th>\n",
       "      <th>loan_advances</th>\n",
       "      <th>from_messages</th>\n",
       "      <th>other</th>\n",
       "      <th>from_this_person_to_poi</th>\n",
       "      <th>poi</th>\n",
       "      <th>director_fees</th>\n",
       "      <th>deferred_income</th>\n",
       "      <th>long_term_incentive</th>\n",
       "      <th>email_address</th>\n",
       "      <th>from_poi_to_this_person</th>\n",
       "    </tr>\n",
       "  </thead>\n",
       "  <tbody>\n",
       "    <tr>\n",
       "      <th>0</th>\n",
       "      <td>ALLEN PHILLIP K</td>\n",
       "      <td>201955.0</td>\n",
       "      <td>2902.0</td>\n",
       "      <td>2869717.0</td>\n",
       "      <td>4484442.0</td>\n",
       "      <td>1729541.0</td>\n",
       "      <td>4175000.0</td>\n",
       "      <td>126027.0</td>\n",
       "      <td>1407.0</td>\n",
       "      <td>-126027.0</td>\n",
       "      <td>...</td>\n",
       "      <td>NaN</td>\n",
       "      <td>2195.0</td>\n",
       "      <td>152.0</td>\n",
       "      <td>65.0</td>\n",
       "      <td>False</td>\n",
       "      <td>NaN</td>\n",
       "      <td>-3081055.0</td>\n",
       "      <td>304805.0</td>\n",
       "      <td>phillip.allen@enron.com</td>\n",
       "      <td>47.0</td>\n",
       "    </tr>\n",
       "    <tr>\n",
       "      <th>1</th>\n",
       "      <td>BADUM JAMES P</td>\n",
       "      <td>NaN</td>\n",
       "      <td>NaN</td>\n",
       "      <td>178980.0</td>\n",
       "      <td>182466.0</td>\n",
       "      <td>257817.0</td>\n",
       "      <td>NaN</td>\n",
       "      <td>NaN</td>\n",
       "      <td>NaN</td>\n",
       "      <td>NaN</td>\n",
       "      <td>...</td>\n",
       "      <td>NaN</td>\n",
       "      <td>NaN</td>\n",
       "      <td>NaN</td>\n",
       "      <td>NaN</td>\n",
       "      <td>False</td>\n",
       "      <td>NaN</td>\n",
       "      <td>NaN</td>\n",
       "      <td>NaN</td>\n",
       "      <td>NaN</td>\n",
       "      <td>NaN</td>\n",
       "    </tr>\n",
       "    <tr>\n",
       "      <th>2</th>\n",
       "      <td>BANNANTINE JAMES M</td>\n",
       "      <td>477.0</td>\n",
       "      <td>566.0</td>\n",
       "      <td>NaN</td>\n",
       "      <td>916197.0</td>\n",
       "      <td>4046157.0</td>\n",
       "      <td>NaN</td>\n",
       "      <td>1757552.0</td>\n",
       "      <td>465.0</td>\n",
       "      <td>-560222.0</td>\n",
       "      <td>...</td>\n",
       "      <td>NaN</td>\n",
       "      <td>29.0</td>\n",
       "      <td>864523.0</td>\n",
       "      <td>0.0</td>\n",
       "      <td>False</td>\n",
       "      <td>NaN</td>\n",
       "      <td>-5104.0</td>\n",
       "      <td>NaN</td>\n",
       "      <td>james.bannantine@enron.com</td>\n",
       "      <td>39.0</td>\n",
       "    </tr>\n",
       "  </tbody>\n",
       "</table>\n",
       "<p>3 rows × 22 columns</p>\n",
       "</div>"
      ],
      "text/plain": [
       "           Unnamed: 0    salary  to_messages  deferral_payments  \\\n",
       "0     ALLEN PHILLIP K  201955.0       2902.0          2869717.0   \n",
       "1       BADUM JAMES P       NaN          NaN           178980.0   \n",
       "2  BANNANTINE JAMES M     477.0        566.0                NaN   \n",
       "\n",
       "   total_payments  exercised_stock_options      bonus  restricted_stock  \\\n",
       "0       4484442.0                1729541.0  4175000.0          126027.0   \n",
       "1        182466.0                 257817.0        NaN               NaN   \n",
       "2        916197.0                4046157.0        NaN         1757552.0   \n",
       "\n",
       "   shared_receipt_with_poi  restricted_stock_deferred  \\\n",
       "0                   1407.0                  -126027.0   \n",
       "1                      NaN                        NaN   \n",
       "2                    465.0                  -560222.0   \n",
       "\n",
       "            ...             loan_advances  from_messages     other  \\\n",
       "0           ...                       NaN         2195.0     152.0   \n",
       "1           ...                       NaN            NaN       NaN   \n",
       "2           ...                       NaN           29.0  864523.0   \n",
       "\n",
       "   from_this_person_to_poi    poi  director_fees  deferred_income  \\\n",
       "0                     65.0  False            NaN       -3081055.0   \n",
       "1                      NaN  False            NaN              NaN   \n",
       "2                      0.0  False            NaN          -5104.0   \n",
       "\n",
       "   long_term_incentive               email_address  from_poi_to_this_person  \n",
       "0             304805.0     phillip.allen@enron.com                     47.0  \n",
       "1                  NaN                         NaN                      NaN  \n",
       "2                  NaN  james.bannantine@enron.com                     39.0  \n",
       "\n",
       "[3 rows x 22 columns]"
      ]
     },
     "execution_count": 6,
     "metadata": {},
     "output_type": "execute_result"
    }
   ],
   "source": [
    "poi[:3]"
   ]
  },
  {
   "cell_type": "markdown",
   "metadata": {},
   "source": [
    "***"
   ]
  },
  {
   "cell_type": "markdown",
   "metadata": {},
   "source": [
    "### OUTLIER INVESTIGATION\n",
    "\n",
    "Response to outliers in the data set."
   ]
  },
  {
   "cell_type": "markdown",
   "metadata": {},
   "source": [
    "Lets plot the salary column and see if we can visually spot any outliers."
   ]
  },
  {
   "cell_type": "code",
   "execution_count": 7,
   "metadata": {
    "scrolled": true
   },
   "outputs": [
    {
     "data": {
      "text/plain": [
       "<matplotlib.axes._subplots.AxesSubplot at 0x11b183b50>"
      ]
     },
     "execution_count": 7,
     "metadata": {},
     "output_type": "execute_result"
    },
    {
     "data": {
      "image/png": "[encoded data removed]",
      "text/plain": [
       "<matplotlib.figure.Figure at 0x110c95390>"
      ]
     },
     "metadata": {},
     "output_type": "display_data"
    }
   ],
   "source": [
    "%matplotlib inline\n",
    "import matplotlib.pyplot as plt\n",
    "import seaborn as sns\n",
    "import numpy as np\n",
    "\n",
    "MAX_ROWS = 150\n",
    "pd.set_option('display.max_rows', MAX_ROWS)\n",
    "pd.set_option('display.max_columns', 200)\n",
    "\n",
    "sns.set_style('whitegrid')\n",
    "sns.set_context('paper')\n",
    "\n",
    "i = 'salary'\n",
    "\n",
    "plt.figure(figsize=(10,8))\n",
    "plt.subplot(211)\n",
    "plt.xlim(poi[i].min(), poi[i].max()*1.1)\n",
    "\n",
    "ax = poi[i].plot(kind='kde')\n",
    "\n",
    "plt.subplot(212)\n",
    "plt.xlim(poi[i].min(), poi[i].max()*1.1)\n",
    "sns.boxplot(x=poi[i])\n",
    "\n"
   ]
  },
  {
   "cell_type": "markdown",
   "metadata": {},
   "source": [
    "We can clearly see there is one outlier draging all the way to the right.  I have a a feeling is the total row element of salary feature.  We can simply delete the 'TOTAL' row from each data frame column.  Lets first find the index for the row with aggregate total values called 'TOTAL'."
   ]
  },
  {
   "cell_type": "code",
   "execution_count": 8,
   "metadata": {
    "scrolled": true
   },
   "outputs": [
    {
     "data": {
      "text/html": [
       "<div>\n",
       "<style scoped>\n",
       "    .dataframe tbody tr th:only-of-type {\n",
       "        vertical-align: middle;\n",
       "    }\n",
       "\n",
       "    .dataframe tbody tr th {\n",
       "        vertical-align: top;\n",
       "    }\n",
       "\n",
       "    .dataframe thead th {\n",
       "        text-align: right;\n",
       "    }\n",
       "</style>\n",
       "<table border=\"1\" class=\"dataframe\">\n",
       "  <thead>\n",
       "    <tr style=\"text-align: right;\">\n",
       "      <th></th>\n",
       "      <th>Unnamed: 0</th>\n",
       "      <th>salary</th>\n",
       "      <th>to_messages</th>\n",
       "      <th>deferral_payments</th>\n",
       "      <th>total_payments</th>\n",
       "      <th>exercised_stock_options</th>\n",
       "      <th>bonus</th>\n",
       "      <th>restricted_stock</th>\n",
       "      <th>shared_receipt_with_poi</th>\n",
       "      <th>restricted_stock_deferred</th>\n",
       "      <th>total_stock_value</th>\n",
       "      <th>expenses</th>\n",
       "      <th>loan_advances</th>\n",
       "      <th>from_messages</th>\n",
       "      <th>other</th>\n",
       "      <th>from_this_person_to_poi</th>\n",
       "      <th>poi</th>\n",
       "      <th>director_fees</th>\n",
       "      <th>deferred_income</th>\n",
       "      <th>long_term_incentive</th>\n",
       "      <th>email_address</th>\n",
       "      <th>from_poi_to_this_person</th>\n",
       "    </tr>\n",
       "  </thead>\n",
       "  <tbody>\n",
       "    <tr>\n",
       "      <th>129</th>\n",
       "      <td>TILNEY ELIZABETH A</td>\n",
       "      <td>247338.0</td>\n",
       "      <td>460.0</td>\n",
       "      <td>NaN</td>\n",
       "      <td>399393.0</td>\n",
       "      <td>591250.0</td>\n",
       "      <td>300000.0</td>\n",
       "      <td>576792.0</td>\n",
       "      <td>379.0</td>\n",
       "      <td>NaN</td>\n",
       "      <td>1168042.0</td>\n",
       "      <td>NaN</td>\n",
       "      <td>NaN</td>\n",
       "      <td>19.0</td>\n",
       "      <td>152055.0</td>\n",
       "      <td>11.0</td>\n",
       "      <td>False</td>\n",
       "      <td>NaN</td>\n",
       "      <td>-575000.0</td>\n",
       "      <td>275000.0</td>\n",
       "      <td>elizabeth.tilney@enron.com</td>\n",
       "      <td>10.0</td>\n",
       "    </tr>\n",
       "    <tr>\n",
       "      <th>130</th>\n",
       "      <td>TOTAL</td>\n",
       "      <td>26704229.0</td>\n",
       "      <td>NaN</td>\n",
       "      <td>32083396.0</td>\n",
       "      <td>309886585.0</td>\n",
       "      <td>311764000.0</td>\n",
       "      <td>97343619.0</td>\n",
       "      <td>130322299.0</td>\n",
       "      <td>NaN</td>\n",
       "      <td>-7576788.0</td>\n",
       "      <td>434509511.0</td>\n",
       "      <td>5235198.0</td>\n",
       "      <td>83925000.0</td>\n",
       "      <td>NaN</td>\n",
       "      <td>42667589.0</td>\n",
       "      <td>NaN</td>\n",
       "      <td>False</td>\n",
       "      <td>1398517.0</td>\n",
       "      <td>-27992891.0</td>\n",
       "      <td>48521928.0</td>\n",
       "      <td>NaN</td>\n",
       "      <td>NaN</td>\n",
       "    </tr>\n",
       "    <tr>\n",
       "      <th>131</th>\n",
       "      <td>UMANOFF ADAM S</td>\n",
       "      <td>288589.0</td>\n",
       "      <td>111.0</td>\n",
       "      <td>NaN</td>\n",
       "      <td>1130461.0</td>\n",
       "      <td>NaN</td>\n",
       "      <td>788750.0</td>\n",
       "      <td>NaN</td>\n",
       "      <td>41.0</td>\n",
       "      <td>NaN</td>\n",
       "      <td>NaN</td>\n",
       "      <td>53122.0</td>\n",
       "      <td>NaN</td>\n",
       "      <td>18.0</td>\n",
       "      <td>NaN</td>\n",
       "      <td>0.0</td>\n",
       "      <td>False</td>\n",
       "      <td>NaN</td>\n",
       "      <td>NaN</td>\n",
       "      <td>NaN</td>\n",
       "      <td>adam.umanoff@enron.com</td>\n",
       "      <td>12.0</td>\n",
       "    </tr>\n",
       "  </tbody>\n",
       "</table>\n",
       "</div>"
      ],
      "text/plain": [
       "             Unnamed: 0      salary  to_messages  deferral_payments  \\\n",
       "129  TILNEY ELIZABETH A    247338.0        460.0                NaN   \n",
       "130               TOTAL  26704229.0          NaN         32083396.0   \n",
       "131      UMANOFF ADAM S    288589.0        111.0                NaN   \n",
       "\n",
       "     total_payments  exercised_stock_options       bonus  restricted_stock  \\\n",
       "129        399393.0                 591250.0    300000.0          576792.0   \n",
       "130     309886585.0              311764000.0  97343619.0       130322299.0   \n",
       "131       1130461.0                      NaN    788750.0               NaN   \n",
       "\n",
       "     shared_receipt_with_poi  restricted_stock_deferred  total_stock_value  \\\n",
       "129                    379.0                        NaN          1168042.0   \n",
       "130                      NaN                 -7576788.0        434509511.0   \n",
       "131                     41.0                        NaN                NaN   \n",
       "\n",
       "      expenses  loan_advances  from_messages       other  \\\n",
       "129        NaN            NaN           19.0    152055.0   \n",
       "130  5235198.0     83925000.0            NaN  42667589.0   \n",
       "131    53122.0            NaN           18.0         NaN   \n",
       "\n",
       "     from_this_person_to_poi    poi  director_fees  deferred_income  \\\n",
       "129                     11.0  False            NaN        -575000.0   \n",
       "130                      NaN  False      1398517.0      -27992891.0   \n",
       "131                      0.0  False            NaN              NaN   \n",
       "\n",
       "     long_term_incentive               email_address  from_poi_to_this_person  \n",
       "129             275000.0  elizabeth.tilney@enron.com                     10.0  \n",
       "130           48521928.0                         NaN                      NaN  \n",
       "131                  NaN      adam.umanoff@enron.com                     12.0  "
      ]
     },
     "execution_count": 8,
     "metadata": {},
     "output_type": "execute_result"
    }
   ],
   "source": [
    "poi.iloc[-17:-14]"
   ]
  },
  {
   "cell_type": "markdown",
   "metadata": {},
   "source": [
    "Index 130 of our data frame can cause all sorts of outliers.  Lets remove it."
   ]
  },
  {
   "cell_type": "code",
   "execution_count": 9,
   "metadata": {
    "collapsed": true,
    "scrolled": false
   },
   "outputs": [],
   "source": [
    "poi = poi.drop([130])"
   ]
  },
  {
   "cell_type": "code",
   "execution_count": 10,
   "metadata": {
    "scrolled": true
   },
   "outputs": [
    {
     "name": "stdout",
     "output_type": "stream",
     "text": [
      "Voila! We can verify index 130 has been deleted.\n",
      "\n",
      "             Unnamed: 0\n",
      "128     THORN TERENCE H\n",
      "129  TILNEY ELIZABETH A\n",
      "131      UMANOFF ADAM S\n"
     ]
    }
   ],
   "source": [
    "print \"Voila! We can verify index 130 has been deleted.\\n\\n\", poi.iloc[-17:-14, 0:1]"
   ]
  },
  {
   "cell_type": "markdown",
   "metadata": {},
   "source": [
    "We have a few more outliers to drop.  Row 127 is Travel Agency In The Park.   Also row 84 Lockhart Eugene E with all NaN values.  "
   ]
  },
  {
   "cell_type": "code",
   "execution_count": 11,
   "metadata": {
    "collapsed": true
   },
   "outputs": [],
   "source": [
    "poi = poi.drop([127])\n",
    "poi = poi.drop([84])"
   ]
  },
  {
   "cell_type": "markdown",
   "metadata": {},
   "source": [
    "Lets run info on our dataframe and look for outliers in the columns."
   ]
  },
  {
   "cell_type": "code",
   "execution_count": 12,
   "metadata": {},
   "outputs": [
    {
     "name": "stdout",
     "output_type": "stream",
     "text": [
      "<class 'pandas.core.frame.DataFrame'>\n",
      "Int64Index: 143 entries, 0 to 145\n",
      "Data columns (total 22 columns):\n",
      "Unnamed: 0                   143 non-null object\n",
      "salary                       94 non-null float64\n",
      "to_messages                  86 non-null float64\n",
      "deferral_payments            38 non-null float64\n",
      "total_payments               123 non-null float64\n",
      "exercised_stock_options      101 non-null float64\n",
      "bonus                        81 non-null float64\n",
      "restricted_stock             109 non-null float64\n",
      "shared_receipt_with_poi      86 non-null float64\n",
      "restricted_stock_deferred    17 non-null float64\n",
      "total_stock_value            125 non-null float64\n",
      "expenses                     94 non-null float64\n",
      "loan_advances                3 non-null float64\n",
      "from_messages                86 non-null float64\n",
      "other                        91 non-null float64\n",
      "from_this_person_to_poi      86 non-null float64\n",
      "poi                          143 non-null bool\n",
      "director_fees                16 non-null float64\n",
      "deferred_income              48 non-null float64\n",
      "long_term_incentive          65 non-null float64\n",
      "email_address                111 non-null object\n",
      "from_poi_to_this_person      86 non-null float64\n",
      "dtypes: bool(1), float64(19), object(2)\n",
      "memory usage: 24.7+ KB\n"
     ]
    }
   ],
   "source": [
    "poi.info()"
   ]
  },
  {
   "cell_type": "markdown",
   "metadata": {},
   "source": [
    "What a terribly pretty dataset.  Any column with less than 50 non-null will be deleted.  These skew the data.  \n",
    "\n",
    "* Unnamed: 0  \n",
    "* deferral_payments  \n",
    "* restricted_stock_deferred  \n",
    "* loan_advances  \n",
    "* director_fees  \n",
    "* email_address  \n",
    "* other  \n",
    "* total_payments  "
   ]
  },
  {
   "cell_type": "code",
   "execution_count": 13,
   "metadata": {
    "collapsed": true
   },
   "outputs": [],
   "source": [
    "poi = poi.drop('Unnamed: 0', axis=1)   \n",
    "poi = poi.drop('deferral_payments', axis=1)   \n",
    "poi = poi.drop('restricted_stock_deferred', axis=1)   \n",
    "poi = poi.drop('loan_advances', axis=1)   \n",
    "poi = poi.drop('director_fees', axis=1)   \n",
    "poi = poi.drop('email_address', axis=1)   \n",
    "poi = poi.drop('other', axis=1)   \n",
    "poi = poi.drop('total_payments', axis=1)"
   ]
  },
  {
   "cell_type": "markdown",
   "metadata": {},
   "source": [
    "Looking at poi.info() below we see a much better looking dataset.  The reason why it was necessary to drop the columns with less than 50 non-null values is because it skews our data.  \n",
    "\n",
    "It's like saying if 3 friends always hang around each other they are as goofy as the Three Stooges.  So if you don't want to be labeled goofy like the Stooges don't be in groups of 3.  We all know that not all groups of 3 are goofy, just look at the Threes Company, or three on three basketball.  Labeling anything with limited data is in itself goofy."
   ]
  },
  {
   "cell_type": "code",
   "execution_count": 14,
   "metadata": {},
   "outputs": [
    {
     "name": "stdout",
     "output_type": "stream",
     "text": [
      "<class 'pandas.core.frame.DataFrame'>\n",
      "Int64Index: 143 entries, 0 to 145\n",
      "Data columns (total 14 columns):\n",
      "salary                     94 non-null float64\n",
      "to_messages                86 non-null float64\n",
      "exercised_stock_options    101 non-null float64\n",
      "bonus                      81 non-null float64\n",
      "restricted_stock           109 non-null float64\n",
      "shared_receipt_with_poi    86 non-null float64\n",
      "total_stock_value          125 non-null float64\n",
      "expenses                   94 non-null float64\n",
      "from_messages              86 non-null float64\n",
      "from_this_person_to_poi    86 non-null float64\n",
      "poi                        143 non-null bool\n",
      "deferred_income            48 non-null float64\n",
      "long_term_incentive        65 non-null float64\n",
      "from_poi_to_this_person    86 non-null float64\n",
      "dtypes: bool(1), float64(13)\n",
      "memory usage: 15.8 KB\n"
     ]
    }
   ],
   "source": [
    "poi.info()"
   ]
  },
  {
   "cell_type": "markdown",
   "metadata": {},
   "source": [
    "We still have one slight issue.  We have NaN values all over our data.  Lets just simply replace all NaN with zeros.  We can see below that all our columns have 143 non-null values."
   ]
  },
  {
   "cell_type": "code",
   "execution_count": 15,
   "metadata": {},
   "outputs": [
    {
     "name": "stdout",
     "output_type": "stream",
     "text": [
      "<class 'pandas.core.frame.DataFrame'>\n",
      "Int64Index: 143 entries, 0 to 145\n",
      "Data columns (total 14 columns):\n",
      "salary                     143 non-null float64\n",
      "to_messages                143 non-null float64\n",
      "exercised_stock_options    143 non-null float64\n",
      "bonus                      143 non-null float64\n",
      "restricted_stock           143 non-null float64\n",
      "shared_receipt_with_poi    143 non-null float64\n",
      "total_stock_value          143 non-null float64\n",
      "expenses                   143 non-null float64\n",
      "from_messages              143 non-null float64\n",
      "from_this_person_to_poi    143 non-null float64\n",
      "poi                        143 non-null bool\n",
      "deferred_income            143 non-null float64\n",
      "long_term_incentive        143 non-null float64\n",
      "from_poi_to_this_person    143 non-null float64\n",
      "dtypes: bool(1), float64(13)\n",
      "memory usage: 15.8 KB\n"
     ]
    }
   ],
   "source": [
    "pd.set_option('display.float_format', lambda x: '%.2f' % x) # lets not print in scientific notation.\n",
    "poi = poi.fillna(0)\n",
    "poi.info()"
   ]
  },
  {
   "cell_type": "markdown",
   "metadata": {},
   "source": [
    "We've trimmed our dataset from 22 columns to 14."
   ]
  },
  {
   "cell_type": "markdown",
   "metadata": {},
   "source": [
    "Great, our outliers should be good to go for now.\n",
    "\n",
    "Lets replot our 'salary' column and see if we have a more infromative graph than the one above.  "
   ]
  },
  {
   "cell_type": "code",
   "execution_count": 16,
   "metadata": {
    "scrolled": true
   },
   "outputs": [
    {
     "data": {
      "text/plain": [
       "<matplotlib.axes._subplots.AxesSubplot at 0x11e4fc290>"
      ]
     },
     "execution_count": 16,
     "metadata": {},
     "output_type": "execute_result"
    },
    {
     "data": {
      "image/png": "[encoded data removed]",
      "text/plain": [
       "<matplotlib.figure.Figure at 0x11e4fcc10>"
      ]
     },
     "metadata": {},
     "output_type": "display_data"
    }
   ],
   "source": [
    "MAX_ROWS = 150\n",
    "pd.set_option('display.max_rows', MAX_ROWS)\n",
    "pd.set_option('display.max_columns', 200)\n",
    "\n",
    "sns.set_style('whitegrid')\n",
    "sns.set_context('paper')\n",
    "\n",
    "i = 'salary'\n",
    "\n",
    "plt.figure(figsize=(10,8))\n",
    "plt.subplot(211)\n",
    "plt.xlim(poi[i].min(), poi[i].max()*1.1)\n",
    "\n",
    "ax = poi[i].plot(kind='kde')\n",
    "\n",
    "plt.subplot(212)\n",
    "plt.xlim(poi[i].min(), poi[i].max()*1.1)\n",
    "sns.boxplot(x=poi[i])"
   ]
  },
  {
   "cell_type": "markdown",
   "metadata": {},
   "source": [
    "The plot is much better.  We see we have a few outliers with salaries greater than $1MM. I suspect the CEO's of the organization were the recipients of these greater amounts...the apple rarely falls to far from the tree."
   ]
  },
  {
   "cell_type": "markdown",
   "metadata": {},
   "source": [
    "### A WORD ON OUTLIERS\n",
    "\n",
    "In the examples above we removed some of the outliers but our data is still not\n",
    "ready.  \n",
    "\n",
    "Outliers are not so easily removed as with our examples from above.  What we've\n",
    "done so far is clean up the data slightly.  During the course work we we're\n",
    "presented a best practice to remove outliers and by simply:\n",
    "\n",
    "* train our data\n",
    "* remove points with largest residual error  \n",
    "\t* (actual_feature_values - classifier_prediction )^2\n",
    "* train again\n",
    "\n",
    "In other words we need to fit our classifier, then plot the output to visually\n",
    "check for any outliers.  Once an outliers has been identified simply remove the \n",
    "element from the data set.  It's very important to understand removing outliers,\n",
    "NaN, or using place holders such as zeros will undoubtedly affect your model.  \n",
    "Its advised to be cautious.\n",
    "\n",
    "Moreover machine learning algorithms may have built in features to deal with \n",
    "outliers.  For example the RANSAC algorithm.  What makes this algorithm \n",
    "interesting is its ability to split the data into inlier and outliers then makes\n",
    "a prediction based on inlier.  In some situations this may serve better than manually seeking \n",
    "outliers and removing them as we do below."
   ]
  },
  {
   "cell_type": "code",
   "execution_count": 17,
   "metadata": {
    "scrolled": true
   },
   "outputs": [
    {
     "name": "stdout",
     "output_type": "stream",
     "text": [
      "\n",
      "r-squared score: 0.0514514327766\n",
      "\n",
      "Scores after cleaning outliers:\n",
      "\n",
      "r-squared score: 0.208028141854\n",
      "[[ 3.64870283]] [[ 5.06950517]]\n",
      "\n",
      "Linear Regression score:\n",
      "0.989492389648\n",
      "\n",
      "RANSAC score:\n",
      "0.839052273621 \n",
      "\n"
     ]
    },
    {
     "data": {
      "image/png": "[encoded data removed]",
      "text/plain": [
       "<matplotlib.figure.Figure at 0x11b088810>"
      ]
     },
     "metadata": {},
     "output_type": "display_data"
    },
    {
     "data": {
      "text/plain": [
       "<matplotlib.figure.Figure at 0x11e7c0d10>"
      ]
     },
     "metadata": {},
     "output_type": "display_data"
    }
   ],
   "source": [
    "%run outlierRemove.py"
   ]
  },
  {
   "cell_type": "markdown",
   "metadata": {},
   "source": [
    "We can see our r-score has improved after running our outlier removal function.  The RANSAC vs. Linear Regression Plot is quite fascinating as-well."
   ]
  },
  {
   "cell_type": "markdown",
   "metadata": {},
   "source": [
    "***"
   ]
  },
  {
   "cell_type": "markdown",
   "metadata": {},
   "source": [
    "### NEW FEATURES\n",
    "\n",
    "Now lets create a new feature 'fraction of messages to poi'.  In order to justify the new feature lets understand what it accomplishes.  It takes the number of emails sent from a person to a poi and divides it by total number of from messages.  In other words, is it possible to detect poi based on the frequency of emails received?"
   ]
  },
  {
   "cell_type": "code",
   "execution_count": 18,
   "metadata": {},
   "outputs": [
    {
     "name": "stdout",
     "output_type": "stream",
     "text": [
      "<class 'pandas.core.frame.DataFrame'>\n",
      "Int64Index: 143 entries, 0 to 145\n",
      "Data columns (total 15 columns):\n",
      "salary                         143 non-null float64\n",
      "to_messages                    143 non-null float64\n",
      "exercised_stock_options        143 non-null float64\n",
      "bonus                          143 non-null float64\n",
      "restricted_stock               143 non-null float64\n",
      "shared_receipt_with_poi        143 non-null float64\n",
      "total_stock_value              143 non-null float64\n",
      "expenses                       143 non-null float64\n",
      "from_messages                  143 non-null float64\n",
      "from_this_person_to_poi        143 non-null float64\n",
      "poi                            143 non-null bool\n",
      "deferred_income                143 non-null float64\n",
      "long_term_incentive            143 non-null float64\n",
      "from_poi_to_this_person        143 non-null float64\n",
      "fraction_of_messages_to_poi    143 non-null float64\n",
      "dtypes: bool(1), float64(14)\n",
      "memory usage: 16.9 KB\n"
     ]
    }
   ],
   "source": [
    "# lets keep the integrity of our poi dataframe just in case we goof up.\n",
    "df_with_newFeature = poi\n",
    "\n",
    "# creating new column in our data frame for our new feature\n",
    "df_with_newFeature['fraction_of_messages_to_poi'] = df_with_newFeature.from_this_person_to_poi / df_with_newFeature.from_messages \n",
    "\n",
    "# make sure all NaN in the new column are replaced with zeros\n",
    "df_with_newFeature = df_with_newFeature.fillna(0)\n",
    "\n",
    "# new csv file\n",
    "df_with_newFeature.to_csv('datafile_with_newFeature.csv')\n",
    "df_with_newFeature.info() "
   ]
  },
  {
   "cell_type": "markdown",
   "metadata": {},
   "source": [
    "***"
   ]
  },
  {
   "cell_type": "markdown",
   "metadata": {},
   "source": [
    "### FEATURE SELECTION"
   ]
  },
  {
   "cell_type": "markdown",
   "metadata": {},
   "source": [
    "#### FEATURE SCALING\n",
    "\n",
    "Lets go ahead and scale our data. Scaling is ideal if one wishes to obtain \n",
    "good results. In simpler terms its much like baking cookies. If the ingredients \n",
    "call for 0.91 kilograms of chocolate chip, and 9 tea spoons of butter you'd \n",
    "be wise to scale both of these measurements to equal measurement types. More technically scaling \n",
    "can be thought of as transforming features into z-scores.\n",
    "\n",
    "\n",
    "*** _As a reminder some algorithms work better without scaling.  Such as decisions tress.  Decision trees_ \n",
    "\n",
    "To better help us manage our fits and bits, we'll use pipeline to construct a classifier."
   ]
  },
  {
   "cell_type": "code",
   "execution_count": 19,
   "metadata": {},
   "outputs": [
    {
     "data": {
      "text/html": [
       "<div>\n",
       "<style scoped>\n",
       "    .dataframe tbody tr th:only-of-type {\n",
       "        vertical-align: middle;\n",
       "    }\n",
       "\n",
       "    .dataframe tbody tr th {\n",
       "        vertical-align: top;\n",
       "    }\n",
       "\n",
       "    .dataframe thead th {\n",
       "        text-align: right;\n",
       "    }\n",
       "</style>\n",
       "<table border=\"1\" class=\"dataframe\">\n",
       "  <thead>\n",
       "    <tr style=\"text-align: right;\">\n",
       "      <th></th>\n",
       "      <th>salary</th>\n",
       "      <th>to_messages</th>\n",
       "      <th>exercised_stock_options</th>\n",
       "      <th>bonus</th>\n",
       "      <th>restricted_stock</th>\n",
       "      <th>shared_receipt_with_poi</th>\n",
       "      <th>total_stock_value</th>\n",
       "      <th>expenses</th>\n",
       "      <th>from_messages</th>\n",
       "      <th>from_this_person_to_poi</th>\n",
       "      <th>poi</th>\n",
       "      <th>deferred_income</th>\n",
       "      <th>long_term_incentive</th>\n",
       "      <th>from_poi_to_this_person</th>\n",
       "      <th>fraction_of_messages_to_poi</th>\n",
       "    </tr>\n",
       "  </thead>\n",
       "  <tbody>\n",
       "    <tr>\n",
       "      <th>0</th>\n",
       "      <td>201955.00</td>\n",
       "      <td>2902.00</td>\n",
       "      <td>1729541.00</td>\n",
       "      <td>4175000.00</td>\n",
       "      <td>126027.00</td>\n",
       "      <td>1407.00</td>\n",
       "      <td>1729541.00</td>\n",
       "      <td>13868.00</td>\n",
       "      <td>2195.00</td>\n",
       "      <td>65.00</td>\n",
       "      <td>False</td>\n",
       "      <td>-3081055.00</td>\n",
       "      <td>304805.00</td>\n",
       "      <td>47.00</td>\n",
       "      <td>0.03</td>\n",
       "    </tr>\n",
       "    <tr>\n",
       "      <th>1</th>\n",
       "      <td>0.00</td>\n",
       "      <td>0.00</td>\n",
       "      <td>257817.00</td>\n",
       "      <td>0.00</td>\n",
       "      <td>0.00</td>\n",
       "      <td>0.00</td>\n",
       "      <td>257817.00</td>\n",
       "      <td>3486.00</td>\n",
       "      <td>0.00</td>\n",
       "      <td>0.00</td>\n",
       "      <td>False</td>\n",
       "      <td>0.00</td>\n",
       "      <td>0.00</td>\n",
       "      <td>0.00</td>\n",
       "      <td>0.00</td>\n",
       "    </tr>\n",
       "    <tr>\n",
       "      <th>2</th>\n",
       "      <td>477.00</td>\n",
       "      <td>566.00</td>\n",
       "      <td>4046157.00</td>\n",
       "      <td>0.00</td>\n",
       "      <td>1757552.00</td>\n",
       "      <td>465.00</td>\n",
       "      <td>5243487.00</td>\n",
       "      <td>56301.00</td>\n",
       "      <td>29.00</td>\n",
       "      <td>0.00</td>\n",
       "      <td>False</td>\n",
       "      <td>-5104.00</td>\n",
       "      <td>0.00</td>\n",
       "      <td>39.00</td>\n",
       "      <td>0.00</td>\n",
       "    </tr>\n",
       "  </tbody>\n",
       "</table>\n",
       "</div>"
      ],
      "text/plain": [
       "     salary  to_messages  exercised_stock_options      bonus  \\\n",
       "0 201955.00      2902.00               1729541.00 4175000.00   \n",
       "1      0.00         0.00                257817.00       0.00   \n",
       "2    477.00       566.00               4046157.00       0.00   \n",
       "\n",
       "   restricted_stock  shared_receipt_with_poi  total_stock_value  expenses  \\\n",
       "0         126027.00                  1407.00         1729541.00  13868.00   \n",
       "1              0.00                     0.00          257817.00   3486.00   \n",
       "2        1757552.00                   465.00         5243487.00  56301.00   \n",
       "\n",
       "   from_messages  from_this_person_to_poi    poi  deferred_income  \\\n",
       "0        2195.00                    65.00  False      -3081055.00   \n",
       "1           0.00                     0.00  False             0.00   \n",
       "2          29.00                     0.00  False         -5104.00   \n",
       "\n",
       "   long_term_incentive  from_poi_to_this_person  fraction_of_messages_to_poi  \n",
       "0            304805.00                    47.00                         0.03  \n",
       "1                 0.00                     0.00                         0.00  \n",
       "2                 0.00                    39.00                         0.00  "
      ]
     },
     "execution_count": 19,
     "metadata": {},
     "output_type": "execute_result"
    }
   ],
   "source": [
    "df =  pd.read_csv('datafile_with_newFeature.csv', index_col=0)\n",
    "df.head(3)"
   ]
  },
  {
   "cell_type": "code",
   "execution_count": 20,
   "metadata": {
    "collapsed": true
   },
   "outputs": [],
   "source": [
    "from sklearn import feature_extraction\n",
    "def one_hot_dataframe(data, cols, replace=False):\n",
    "    # takes in dataframe and uses DictVectorizer to convert POI into \n",
    "    # 1 and 0 instead of True/False.\n",
    "\n",
    "    vec = feature_extraction.DictVectorizer()\n",
    "    mkdict = lambda row: dict((col, row[col]) for col in cols)\n",
    "    vecData = pd.DataFrame(vec.fit_transform(data[cols].apply(mkdict, axis=1)).toarray())\n",
    "    vecData.columns = vec.get_feature_names()\n",
    "    vecData.index = data.index\n",
    "    if replace:\n",
    "        data = data.drop(cols, axis=1)\n",
    "        data = data.join(vecData)\n",
    "    return (data, vecData)"
   ]
  },
  {
   "cell_type": "code",
   "execution_count": 21,
   "metadata": {
    "collapsed": true
   },
   "outputs": [],
   "source": [
    "df_w_feat, df_w_feat_n = one_hot_dataframe(df, ['salary', 'to_messages', \n",
    "                       'exercised_stock_options',\n",
    "                       'bonus','restricted_stock', \n",
    "                       'shared_receipt_with_poi', \n",
    "                       'total_stock_value','expenses', \n",
    "                       'from_messages', 'from_this_person_to_poi', \n",
    "                       'poi','deferred_income', \n",
    "                       'long_term_incentive', \n",
    "                       'from_poi_to_this_person',\n",
    "                       'fraction_of_messages_to_poi'], replace=True)"
   ]
  },
  {
   "cell_type": "code",
   "execution_count": null,
   "metadata": {
    "collapsed": true
   },
   "outputs": [],
   "source": []
  },
  {
   "cell_type": "code",
   "execution_count": 22,
   "metadata": {},
   "outputs": [
    {
     "name": "stdout",
     "output_type": "stream",
     "text": [
      "<class 'pandas.core.frame.DataFrame'>\n",
      "Int64Index: 143 entries, 0 to 145\n",
      "Data columns (total 14 columns):\n",
      "bonus                          143 non-null float64\n",
      "deferred_income                143 non-null float64\n",
      "exercised_stock_options        143 non-null float64\n",
      "expenses                       143 non-null float64\n",
      "fraction_of_messages_to_poi    143 non-null float64\n",
      "from_messages                  143 non-null float64\n",
      "from_poi_to_this_person        143 non-null float64\n",
      "from_this_person_to_poi        143 non-null float64\n",
      "long_term_incentive            143 non-null float64\n",
      "restricted_stock               143 non-null float64\n",
      "salary                         143 non-null float64\n",
      "shared_receipt_with_poi        143 non-null float64\n",
      "to_messages                    143 non-null float64\n",
      "total_stock_value              143 non-null float64\n",
      "dtypes: float64(14)\n",
      "memory usage: 21.8 KB\n"
     ]
    }
   ],
   "source": [
    "data_target = df_w_feat['poi']\n",
    "data = df_w_feat.drop(['poi'], axis=1)\n",
    "\n",
    "data.info()"
   ]
  },
  {
   "cell_type": "markdown",
   "metadata": {},
   "source": [
    "### NEW FEATURE TESTING \n",
    "\n",
    "Decision tree algorithms are used to train datasets but they over fit.  To combat over fitting robust algorithms such as Random Forest or Gradient Boost should be considered.\n",
    "\n",
    "A decision tree is usually a single tree and while pruning techniques are essential they don't quite remedy over fitting.  If we could build multiple decision trees in randomness, each tree would likely over fit in a different way.  If we then take the average of these results we'll have a much better performing algorithm, hence the use of Random Forest.  Each tree will have an acceptable rate of predicting the target and will be different from the rest by simply building each tree randomly.\n",
    "\n",
    "We'll use Random Forest to train our dataset and determine what affects our new feature, _fraction of messages to poi_ , has.  We'll test two models one with the feature and one without this feature.\n",
    "\n",
    "* n_estimators = number of trees to build\n",
    "\n",
    "* max_featrues = each node randomly selects a subset of the features and it looks for the best possible test involving one of these features.  \n"
   ]
  },
  {
   "cell_type": "markdown",
   "metadata": {},
   "source": [
    "### SPLITTING THE DATA\n",
    "\n",
    "Splitting our data is an extremely important step, especially in real world datasets.  If we neglect to split our data we're effectively fooling ourselves with very optimistic results. In other words, we over fit our data by training and test on the same data set.  The algorithm will cheat in a sense and remember how the data fit including any noise.  Therefore when testing on the training set you're virtually predict at 100% accuracy.  \n",
    "\n",
    "We can avoid over fitting by splitting our data into training and testings sets.  In real world applications as suggested in Kuhn and Johnson book, Applied Predictive Modeling, a validation set should also be considered.  The validation portion will be used for parameter tuning via GridSearchCV.\n",
    "\n",
    "In the following exercise I've split our data into training, testing, and validation sets.  Although we're not using the validation set, its good practice to become familiar with managing the task."
   ]
  },
  {
   "cell_type": "code",
   "execution_count": 23,
   "metadata": {
    "collapsed": true
   },
   "outputs": [],
   "source": [
    "from sklearn.model_selection import cross_val_score\n",
    "from sklearn.metrics import classification_report\n",
    "from sklearn.ensemble import RandomForestClassifier\n",
    "from sklearn.model_selection import train_test_split\n",
    "\n",
    "# split data into train and test set\n",
    "X_train, X_test, y_train, y_test = train_test_split(data, data_target, random_state=0)                          \n",
    "\n",
    "# split train and validation sets\n",
    "X_train, X_val, y_train, y_val = train_test_split(X_train, y_train, random_state=1)"
   ]
  },
  {
   "cell_type": "markdown",
   "metadata": {},
   "source": [
    "We can see from the print out below how our data has been split into training, testing, and validation sets."
   ]
  },
  {
   "cell_type": "code",
   "execution_count": 24,
   "metadata": {},
   "outputs": [
    {
     "name": "stdout",
     "output_type": "stream",
     "text": [
      "size of training set: (80, 14)\n",
      "size of test set:  (36, 14)\n",
      "size of validation set: (27, 14)\n"
     ]
    }
   ],
   "source": [
    "print 'size of training set:' , X_train.shape\n",
    "print 'size of test set: ', X_test.shape\n",
    "print 'size of validation set:' , X_val.shape"
   ]
  },
  {
   "cell_type": "markdown",
   "metadata": {},
   "source": [
    "### RANDOM FOREST WITH ENGINEERED FEATURE\n",
    "\n",
    "Below we've fit our classifier with the dataset containing the feature we created.  Lets check out its score. "
   ]
  },
  {
   "cell_type": "code",
   "execution_count": 25,
   "metadata": {},
   "outputs": [
    {
     "data": {
      "text/plain": [
       "0.86111111111111116"
      ]
     },
     "execution_count": 25,
     "metadata": {},
     "output_type": "execute_result"
    }
   ],
   "source": [
    "forest = RandomForestClassifier(n_estimators=10, random_state=2)     \n",
    "forest.fit(X_train, y_train)\n",
    "forest.score(X_test, y_test)"
   ]
  },
  {
   "cell_type": "markdown",
   "metadata": {},
   "source": [
    "### SHUFFLE SPLIT, STRATIFIED SHUFFLE SPLIT, CROSS VALIDATION\n",
    "\n",
    "Next we'll put in practice Shuffle Split and cross validation.  Shuffle Split is a great way to randomly shuffle and split our dataset.  The drawback is there is no guarantee that all folds in our cross validation will be different.  This is important to note with our limited data set.  \n",
    "\n",
    "To combat this limitation we'll also use Stratified Shuffle Split.  This will make sure that folds in our cross validation will have a scaled balance between our two classes, or \"by preserving the percentage of samples for each class,\" (scikit-learn.org).\n",
    "\n",
    "Once we've constructed Shuffle Split and Stratified Shuffle Split we're going to use cross validation to do the heaving lifting.  In a nut shell cross validation splits our dataset into folds in order to train and test on each split.  This allows us to use more of of the data for training and testing when compared to a simple train_test_split scheme."
   ]
  },
  {
   "cell_type": "markdown",
   "metadata": {},
   "source": [
    "### SHUFFLE SPLIT"
   ]
  },
  {
   "cell_type": "code",
   "execution_count": 26,
   "metadata": {},
   "outputs": [
    {
     "name": "stdout",
     "output_type": "stream",
     "text": [
      "\n",
      "mean score:  0.873333333333\n",
      "\n",
      "n_features:  14\n",
      "\n",
      "feature importance sum:  1.0\n"
     ]
    }
   ],
   "source": [
    "from sklearn.model_selection import ShuffleSplit\n",
    "\n",
    "# fit our classifier\n",
    "forestCV = RandomForestClassifier(n_estimators=10, random_state=2)\n",
    "forestCV.fit(X_train, y_train)\n",
    "\n",
    "# split data using ShuffleSplit \n",
    "kfold = ShuffleSplit(random_state=9)\n",
    "\n",
    "# use cross valiidation \n",
    "score = cross_val_score(forestCV, data, data_target, cv=kfold)\n",
    "\n",
    "\n",
    "print '\\nmean score: ', score.mean()\n",
    "print '\\nn_features: ', forestCV.n_features_\n",
    "print '\\nfeature importance sum: ', forestCV.feature_importances_.sum()\n"
   ]
  },
  {
   "cell_type": "markdown",
   "metadata": {},
   "source": [
    "### STRATIFIED SHUFFLE SPLIT"
   ]
  },
  {
   "cell_type": "code",
   "execution_count": 27,
   "metadata": {},
   "outputs": [
    {
     "name": "stdout",
     "output_type": "stream",
     "text": [
      "\n",
      "mean score:  0.833333333333\n",
      "n_features:  14\n",
      "X_train size: 80\n"
     ]
    }
   ],
   "source": [
    "from sklearn.model_selection import StratifiedShuffleSplit\n",
    "\n",
    "forestCV = RandomForestClassifier(n_estimators=10, random_state=2)\n",
    "forestCV.fit(X_train, y_train)\n",
    "\n",
    "kfold = StratifiedShuffleSplit(random_state=9)\n",
    "\n",
    "score = cross_val_score(forestCV, data, data_target, cv=kfold)\n",
    "\n",
    "#print 'SCORES: \\n', score\n",
    "print '\\nmean score: ', score.mean()\n",
    "print 'n_features: ', forestCV.n_features_\n",
    "print 'X_train size:', X_train.shape[0]"
   ]
  },
  {
   "cell_type": "markdown",
   "metadata": {},
   "source": [
    "### ENGINEERED FEATURE: SPLIT SUMMARY\n",
    "\n",
    "We immediately notice our mean score has gone down with Stratified Shuffle Split which is a reasonable indicator we may have been over fitting by simply using Shuffle Split.  We're still using the limited training set because of our three way split earlier into training, testing, and validation.  If this were a real world application we would change the data splits into training and validation only.  The training set will be cross validated as a test set using Stratified Shuffle Split and when tunning our parameters we'd use the validation set.  But for now we've conceptually cleared up some of the muggy waters."
   ]
  },
  {
   "cell_type": "markdown",
   "metadata": {},
   "source": [
    "### FEATURE IMPORTANCE:  WITH ENGINEERED FEATURE\n",
    "\n",
    "Lets shift gears and print how Random Forest ranked the features and how the feature we created stacks up against the rest.\n",
    "\n",
    "This is muli-porcedural task:\n",
    "\n",
    "1. reshape the array\n",
    "2. create new pandas dataframe to see the feature rankings and column names.\n",
    "3. sort feature_importance and see how our feature is ranked"
   ]
  },
  {
   "cell_type": "code",
   "execution_count": 28,
   "metadata": {},
   "outputs": [
    {
     "name": "stdout",
     "output_type": "stream",
     "text": [
      "(14,)\n",
      "(14,)\n"
     ]
    }
   ],
   "source": [
    "print forestCV.feature_importances_.shape\n",
    "print data.columns.shape"
   ]
  },
  {
   "cell_type": "code",
   "execution_count": 29,
   "metadata": {},
   "outputs": [
    {
     "data": {
      "text/plain": [
       "array([[ 0.06287068,  0.04587532,  0.07922624,  0.08744912,  0.16138383,\n",
       "         0.02021006,  0.04599399,  0.00979909,  0.06757843,  0.04533603,\n",
       "         0.06490477,  0.02298344,  0.03716383,  0.24922518]])"
      ]
     },
     "execution_count": 29,
     "metadata": {},
     "output_type": "execute_result"
    }
   ],
   "source": [
    "# lets reshape our feature_importance array from rows into columns\n",
    "a = np.reshape(forestCV.feature_importances_, (-1, 14))\n",
    "a"
   ]
  },
  {
   "cell_type": "code",
   "execution_count": 30,
   "metadata": {},
   "outputs": [
    {
     "data": {
      "text/html": [
       "<div>\n",
       "<style scoped>\n",
       "    .dataframe tbody tr th:only-of-type {\n",
       "        vertical-align: middle;\n",
       "    }\n",
       "\n",
       "    .dataframe tbody tr th {\n",
       "        vertical-align: top;\n",
       "    }\n",
       "\n",
       "    .dataframe thead th {\n",
       "        text-align: right;\n",
       "    }\n",
       "</style>\n",
       "<table border=\"1\" class=\"dataframe\">\n",
       "  <thead>\n",
       "    <tr style=\"text-align: right;\">\n",
       "      <th></th>\n",
       "      <th>bonus</th>\n",
       "      <th>deferred_income</th>\n",
       "      <th>exercised_stock_options</th>\n",
       "      <th>expenses</th>\n",
       "      <th>fraction_of_messages_to_poi</th>\n",
       "      <th>from_messages</th>\n",
       "      <th>from_poi_to_this_person</th>\n",
       "      <th>from_this_person_to_poi</th>\n",
       "      <th>long_term_incentive</th>\n",
       "      <th>restricted_stock</th>\n",
       "      <th>salary</th>\n",
       "      <th>shared_receipt_with_poi</th>\n",
       "      <th>to_messages</th>\n",
       "      <th>total_stock_value</th>\n",
       "    </tr>\n",
       "  </thead>\n",
       "  <tbody>\n",
       "    <tr>\n",
       "      <th>0</th>\n",
       "      <td>0.06</td>\n",
       "      <td>0.05</td>\n",
       "      <td>0.08</td>\n",
       "      <td>0.09</td>\n",
       "      <td>0.16</td>\n",
       "      <td>0.02</td>\n",
       "      <td>0.05</td>\n",
       "      <td>0.01</td>\n",
       "      <td>0.07</td>\n",
       "      <td>0.05</td>\n",
       "      <td>0.06</td>\n",
       "      <td>0.02</td>\n",
       "      <td>0.04</td>\n",
       "      <td>0.25</td>\n",
       "    </tr>\n",
       "  </tbody>\n",
       "</table>\n",
       "</div>"
      ],
      "text/plain": [
       "   bonus  deferred_income  exercised_stock_options  expenses  \\\n",
       "0   0.06             0.05                     0.08      0.09   \n",
       "\n",
       "   fraction_of_messages_to_poi  from_messages  from_poi_to_this_person  \\\n",
       "0                         0.16           0.02                     0.05   \n",
       "\n",
       "   from_this_person_to_poi  long_term_incentive  restricted_stock  salary  \\\n",
       "0                     0.01                 0.07              0.05    0.06   \n",
       "\n",
       "   shared_receipt_with_poi  to_messages  total_stock_value  \n",
       "0                     0.02         0.04               0.25  "
      ]
     },
     "execution_count": 30,
     "metadata": {},
     "output_type": "execute_result"
    }
   ],
   "source": [
    "# create new dataframe to visualize feature_importance and their respected \n",
    "# column names\n",
    "df_feat_importanceDATA = pd.DataFrame(a, columns=data.columns)\n",
    "df_feat_importanceDATA"
   ]
  },
  {
   "cell_type": "code",
   "execution_count": 31,
   "metadata": {},
   "outputs": [
    {
     "name": "stdout",
     "output_type": "stream",
     "text": [
      "             precision    recall  f1-score   support\n",
      "\n",
      "    not poi       0.99      1.00      0.99        69\n",
      "        poi       1.00      0.91      0.95        11\n",
      "\n",
      "avg / total       0.99      0.99      0.99        80\n",
      "\n"
     ]
    }
   ],
   "source": [
    "# classification report\n",
    "pred  = forestCV.predict(X_train)\n",
    "print classification_report(y_train, pred, target_names=['not poi', 'poi'])\n"
   ]
  },
  {
   "cell_type": "code",
   "execution_count": 32,
   "metadata": {},
   "outputs": [
    {
     "name": "stdout",
     "output_type": "stream",
     "text": [
      "\n",
      "CONFUSION MATRIX\n",
      "[[69  0]\n",
      " [ 1 10]]\n",
      "\n",
      "UNIQUE PREDICTED LABELS:  [ 0.  1.]\n"
     ]
    }
   ],
   "source": [
    "# confusion matrix\n",
    "from sklearn.metrics import confusion_matrix\n",
    "confusion = confusion_matrix(y_train, pred)\n",
    "print '\\nCONFUSION MATRIX\\n', confusion\n",
    "print '\\nUNIQUE PREDICTED LABELS: ', np.unique(pred)"
   ]
  },
  {
   "cell_type": "markdown",
   "metadata": {},
   "source": [
    "### SUMMARY: WITH ENGINEERED FEATURE\n",
    "\n",
    "The feature we created has a feature_importance score of 0.16 and only total_stock_value is ranked higher at 0.25 in feature_importance.  \n",
    "\n",
    "If we consider how the algorithm performed pre and post spits there are differences in scores.  In other words Shuffle Split performed slightly better than Stratified Shuffle Split and that was expected.  Stratified Shuffle Split will do a better job at splitting our data with a scaled balance between our two classifiers and in doing so it will perfom slightly lower than Shuffle Split."
   ]
  },
  {
   "cell_type": "markdown",
   "metadata": {},
   "source": [
    "***"
   ]
  },
  {
   "cell_type": "markdown",
   "metadata": {},
   "source": [
    "### RANDOM FOREST WITHOUT ENGINEERED FEATURE"
   ]
  },
  {
   "cell_type": "markdown",
   "metadata": {},
   "source": [
    "Now we're going to drop our engineered feature and run the exact same steps from above.  This will allow us to the gauge the performance of our algorithm and understand if our featured engineer helps our algorithm score higher or lower."
   ]
  },
  {
   "cell_type": "code",
   "execution_count": 33,
   "metadata": {
    "collapsed": true
   },
   "outputs": [],
   "source": [
    "# dropping feature\n",
    "data2 = data.drop(['fraction_of_messages_to_poi'], axis=1)"
   ]
  },
  {
   "cell_type": "code",
   "execution_count": 34,
   "metadata": {
    "collapsed": true
   },
   "outputs": [],
   "source": [
    "# split data into train+validation set and test set\n",
    "X_train, X_test, y_train, y_test = train_test_split(data2, data_target, random_state=0)                          \n",
    "\n",
    "# split train+validation set into training and validation sets\n",
    "X_train, X_val, y_train, y_val = train_test_split(X_train, y_train, random_state=1)"
   ]
  },
  {
   "cell_type": "code",
   "execution_count": 35,
   "metadata": {},
   "outputs": [
    {
     "name": "stdout",
     "output_type": "stream",
     "text": [
      "size of training set: (80, 13)\n",
      "size of test set:  (36, 13)\n",
      "size of validation set: (27, 13)\n"
     ]
    }
   ],
   "source": [
    "print 'size of training set:' , X_train.shape\n",
    "print 'size of test set: ', X_test.shape\n",
    "print 'size of validation set:' , X_val.shape"
   ]
  },
  {
   "cell_type": "code",
   "execution_count": 36,
   "metadata": {},
   "outputs": [
    {
     "data": {
      "text/plain": [
       "0.86111111111111116"
      ]
     },
     "execution_count": 36,
     "metadata": {},
     "output_type": "execute_result"
    }
   ],
   "source": [
    "forest = RandomForestClassifier(n_estimators=10, random_state=2)     \n",
    "forest.fit(X_train, y_train)\n",
    "forest.score(X_test, y_test)"
   ]
  },
  {
   "cell_type": "markdown",
   "metadata": {},
   "source": [
    "### SHUFFLE SPLIT"
   ]
  },
  {
   "cell_type": "code",
   "execution_count": 37,
   "metadata": {},
   "outputs": [
    {
     "name": "stdout",
     "output_type": "stream",
     "text": [
      "\n",
      "mean score:  0.886666666667\n",
      "\n",
      "n_features:  13\n",
      "\n",
      "feature importance sum:  1.0\n"
     ]
    }
   ],
   "source": [
    "from sklearn.model_selection import ShuffleSplit\n",
    "\n",
    "# fit our classifier\n",
    "forest = RandomForestClassifier(n_estimators=10, random_state=2)\n",
    "forest.fit(X_train, y_train)\n",
    "\n",
    "# split data using ShuffleSplit \n",
    "kfold = ShuffleSplit(random_state=9)\n",
    "\n",
    "# use cross valiidation \n",
    "score = cross_val_score(forest, data2, data_target, cv=kfold)\n",
    "\n",
    "\n",
    "print '\\nmean score: ', score.mean()\n",
    "print '\\nn_features: ', forest.n_features_\n",
    "print '\\nfeature importance sum: ', forest.feature_importances_.sum()\n"
   ]
  },
  {
   "cell_type": "markdown",
   "metadata": {},
   "source": [
    "### STRATIFIED SHUFFLE SPLIT"
   ]
  },
  {
   "cell_type": "code",
   "execution_count": 38,
   "metadata": {},
   "outputs": [
    {
     "name": "stdout",
     "output_type": "stream",
     "text": [
      "\n",
      "mean score:  0.846666666667\n",
      "n_features:  13\n",
      "X_train size: 80\n"
     ]
    }
   ],
   "source": [
    "from sklearn.model_selection import StratifiedShuffleSplit\n",
    "\n",
    "forestCV = RandomForestClassifier(n_estimators=10, random_state=2)\n",
    "forestCV.fit(X_train, y_train)\n",
    "\n",
    "kfold = StratifiedShuffleSplit(random_state=9)\n",
    "\n",
    "score = cross_val_score(forestCV, data2, data_target, cv=kfold)\n",
    "\n",
    "#print 'SCORES: \\n', score\n",
    "print '\\nmean score: ', score.mean()\n",
    "print 'n_features: ', forestCV.n_features_\n",
    "print 'X_train size:', X_train.shape[0]"
   ]
  },
  {
   "cell_type": "code",
   "execution_count": 39,
   "metadata": {},
   "outputs": [
    {
     "name": "stdout",
     "output_type": "stream",
     "text": [
      "forest feature (13,)\n",
      "data feature (13,)\n"
     ]
    }
   ],
   "source": [
    "print 'forest feature', forest.feature_importances_.shape\n",
    "print 'data feature', data2.columns.shape"
   ]
  },
  {
   "cell_type": "code",
   "execution_count": 40,
   "metadata": {},
   "outputs": [
    {
     "data": {
      "text/plain": [
       "array([[ 0.04764108,  0.05731841,  0.26571729,  0.11430323,  0.00690877,\n",
       "         0.07624029,  0.06042537,  0.06582814,  0.01126854,  0.05261422,\n",
       "         0.06460013,  0.0400622 ,  0.13707233]])"
      ]
     },
     "execution_count": 40,
     "metadata": {},
     "output_type": "execute_result"
    }
   ],
   "source": [
    "a = np.reshape(forest.feature_importances_, (-1,13)) \n",
    "a"
   ]
  },
  {
   "cell_type": "code",
   "execution_count": 41,
   "metadata": {},
   "outputs": [
    {
     "data": {
      "text/html": [
       "<div>\n",
       "<style scoped>\n",
       "    .dataframe tbody tr th:only-of-type {\n",
       "        vertical-align: middle;\n",
       "    }\n",
       "\n",
       "    .dataframe tbody tr th {\n",
       "        vertical-align: top;\n",
       "    }\n",
       "\n",
       "    .dataframe thead th {\n",
       "        text-align: right;\n",
       "    }\n",
       "</style>\n",
       "<table border=\"1\" class=\"dataframe\">\n",
       "  <thead>\n",
       "    <tr style=\"text-align: right;\">\n",
       "      <th></th>\n",
       "      <th>bonus</th>\n",
       "      <th>deferred_income</th>\n",
       "      <th>exercised_stock_options</th>\n",
       "      <th>expenses</th>\n",
       "      <th>from_messages</th>\n",
       "      <th>from_poi_to_this_person</th>\n",
       "      <th>from_this_person_to_poi</th>\n",
       "      <th>long_term_incentive</th>\n",
       "      <th>restricted_stock</th>\n",
       "      <th>salary</th>\n",
       "      <th>shared_receipt_with_poi</th>\n",
       "      <th>to_messages</th>\n",
       "      <th>total_stock_value</th>\n",
       "    </tr>\n",
       "  </thead>\n",
       "  <tbody>\n",
       "    <tr>\n",
       "      <th>0</th>\n",
       "      <td>0.05</td>\n",
       "      <td>0.06</td>\n",
       "      <td>0.27</td>\n",
       "      <td>0.11</td>\n",
       "      <td>0.01</td>\n",
       "      <td>0.08</td>\n",
       "      <td>0.06</td>\n",
       "      <td>0.07</td>\n",
       "      <td>0.01</td>\n",
       "      <td>0.05</td>\n",
       "      <td>0.06</td>\n",
       "      <td>0.04</td>\n",
       "      <td>0.14</td>\n",
       "    </tr>\n",
       "  </tbody>\n",
       "</table>\n",
       "</div>"
      ],
      "text/plain": [
       "   bonus  deferred_income  exercised_stock_options  expenses  from_messages  \\\n",
       "0   0.05             0.06                     0.27      0.11           0.01   \n",
       "\n",
       "   from_poi_to_this_person  from_this_person_to_poi  long_term_incentive  \\\n",
       "0                     0.08                     0.06                 0.07   \n",
       "\n",
       "   restricted_stock  salary  shared_receipt_with_poi  to_messages  \\\n",
       "0              0.01    0.05                     0.06         0.04   \n",
       "\n",
       "   total_stock_value  \n",
       "0               0.14  "
      ]
     },
     "execution_count": 41,
     "metadata": {},
     "output_type": "execute_result"
    }
   ],
   "source": [
    "a = pd.DataFrame(a, columns=data2.columns)\n",
    "a"
   ]
  },
  {
   "cell_type": "code",
   "execution_count": 42,
   "metadata": {},
   "outputs": [
    {
     "name": "stdout",
     "output_type": "stream",
     "text": [
      "             precision    recall  f1-score   support\n",
      "\n",
      "    not poi       0.96      1.00      0.98        69\n",
      "        poi       1.00      0.73      0.84        11\n",
      "\n",
      "avg / total       0.96      0.96      0.96        80\n",
      "\n"
     ]
    }
   ],
   "source": [
    "pred  = forest.predict(X_train)\n",
    "print classification_report(y_train, pred, target_names=['not poi', 'poi'])\n"
   ]
  },
  {
   "cell_type": "code",
   "execution_count": 43,
   "metadata": {},
   "outputs": [
    {
     "name": "stdout",
     "output_type": "stream",
     "text": [
      "\n",
      "CONFUSION MATRIX\n",
      "[[69  0]\n",
      " [ 3  8]]\n",
      "\n",
      "UNIQUE PREDICTED LABELS:  [ 0.  1.]\n"
     ]
    }
   ],
   "source": [
    "    from sklearn.metrics import confusion_matrix\n",
    "    confusion = confusion_matrix(y_train, pred)\n",
    "    print '\\nCONFUSION MATRIX\\n', confusion\n",
    "    print '\\nUNIQUE PREDICTED LABELS: ', np.unique(pred)"
   ]
  },
  {
   "cell_type": "markdown",
   "metadata": {},
   "source": [
    "### SUMMARY: ENGINEERED FEATURE PERFORMANCE\n",
    "\n",
    "We notice our algorithm performs slightly better without our engineered feature.  However in precision scores our engineered featured scored higher.\n",
    "\n",
    "With engineered feature:\n",
    "\n",
    "* 0.87 Shuffle Split\n",
    "* 0.83 Stratified Shuffle Split\n",
    "* 0.99 Precision score\n",
    "\n",
    "Without engineered feature:\n",
    "\n",
    "* 0.88 Shuffle Split\n",
    "* 0.84 Stratified Shuffle Split\n",
    "* 0.96 Precision score"
   ]
  },
  {
   "cell_type": "markdown",
   "metadata": {},
   "source": [
    "***"
   ]
  },
  {
   "cell_type": "markdown",
   "metadata": {},
   "source": [
    "### ADDITIONAL CLASSIFIERS"
   ]
  },
  {
   "cell_type": "markdown",
   "metadata": {},
   "source": [
    "### GAUSSIAN"
   ]
  },
  {
   "cell_type": "code",
   "execution_count": 44,
   "metadata": {},
   "outputs": [
    {
     "name": "stdout",
     "output_type": "stream",
     "text": [
      "[ 0.79166667  0.8125      0.89361702]\n"
     ]
    }
   ],
   "source": [
    "from sklearn.model_selection import cross_val_score\n",
    "from sklearn.naive_bayes import GaussianNB\n",
    "clf = GaussianNB()\n",
    "score = cross_val_score(clf, data, data_target, cv=3)\n",
    "print score"
   ]
  },
  {
   "cell_type": "markdown",
   "metadata": {},
   "source": [
    "### SVC WITH ENGINEERED FEATURE"
   ]
  },
  {
   "cell_type": "code",
   "execution_count": 45,
   "metadata": {
    "collapsed": true
   },
   "outputs": [],
   "source": [
    "def featureNames_svc(n, X, y, param_grid, cv_n):\n",
    "    # X = dataframe\n",
    "    # y = label\n",
    "    \n",
    "    # split data\n",
    "    from sklearn.model_selection import train_test_split\n",
    "    X_train, X_test, y_train, y_test = train_test_split(X, y, random_state=9)\n",
    "\n",
    "    # scaler, selector, classifier, pipeline\n",
    "    from sklearn.preprocessing import StandardScaler\n",
    "    from sklearn.feature_selection import SelectKBest\n",
    "    from sklearn.svm import SVC\n",
    "    from sklearn.pipeline import Pipeline \n",
    "\n",
    "\n",
    "\n",
    "    # create pipeline\n",
    "    estimator = [('scaler', StandardScaler()), ('selector', SelectKBest(k=n)), ('svc', SVC())] \n",
    "    pipe = Pipeline(estimator)\n",
    "    pipe.fit(X_train, y_train)\n",
    "    \n",
    "\n",
    "    # using get_support method for feature names to be stored in variable\n",
    "    names = X.columns.values[pipe.named_steps['selector'].get_support()]\n",
    "    \n",
    "    # using get support method for scores to be stored in variable\n",
    "    scores = pipe.named_steps['selector'].scores_[pipe.named_steps['selector'].get_support()]\n",
    "    \n",
    "    # sip feature names and scores\n",
    "    names_scores = list(zip(names, scores))\n",
    "    \n",
    "    # create new dataframe from zipped list \n",
    "    ns_df = pd.DataFrame(data = names_scores, columns=['Feat_names', 'Feat_Score'])\n",
    "    # sort dataframe\n",
    "    ns_df_sorted = ns_df.sort_values(['Feat_Score', 'Feat_names'], ascending = [False, True])\n",
    "    \n",
    "    # cross validate\n",
    "    from sklearn.model_selection import GridSearchCV\n",
    "    grid = GridSearchCV(pipe, param_grid=param_grid, cv=cv_n)\n",
    "    grid.fit(X_train, y_train)\n",
    "    \n",
    "    print 'PIPE STEPS \\n\\n', pipe.steps\n",
    "    print '\\n\\nSELECTED FEATURES\\n\\n', ns_df_sorted\n",
    "    print '\\n\\nSCORE', pipe.score(X_test, y_test)\n",
    "    \n",
    "    print '\\n\\nBEST CROSS-VALIDATION ACCURACY: {:.5f}'.format(grid.best_score_)\n",
    "    print '\\n\\nTEST SET SCORE: {:.5f}'.format(grid.score(X_test, y_test))\n",
    "    print '\\n\\nBEST PARAMETERS: {}'.format(grid.best_params_)\n",
    "    #print '\\n\\nCOEFFICIENTS:\\n{}'.format(grid.best_estimator_.named_steps['svc'].coef_)\n",
    "    \n",
    "    print '\\n\\n'"
   ]
  },
  {
   "cell_type": "code",
   "execution_count": 46,
   "metadata": {
    "scrolled": false
   },
   "outputs": [
    {
     "name": "stdout",
     "output_type": "stream",
     "text": [
      "PIPE STEPS \n",
      "\n",
      "[('scaler', StandardScaler(copy=True, with_mean=True, with_std=True)), ('selector', SelectKBest(k=5, score_func=<function f_classif at 0x11ab436e0>)), ('svc', SVC(C=1.0, cache_size=200, class_weight=None, coef0=0.0,\n",
      "  decision_function_shape='ovr', degree=3, gamma='auto', kernel='rbf',\n",
      "  max_iter=-1, probability=False, random_state=None, shrinking=True,\n",
      "  tol=0.001, verbose=False))]\n",
      "\n",
      "\n",
      "SELECTED FEATURES\n",
      "\n",
      "                    Feat_names  Feat_Score\n",
      "1      exercised_stock_options       23.16\n",
      "4            total_stock_value       23.15\n",
      "0                        bonus       20.06\n",
      "2  fraction_of_messages_to_poi       16.55\n",
      "3             restricted_stock       12.93\n",
      "\n",
      "\n",
      "SCORE 0.861111111111\n",
      "\n",
      "\n",
      "BEST CROSS-VALIDATION ACCURACY: 0.87850\n",
      "\n",
      "\n",
      "TEST SET SCORE: 0.86111\n",
      "\n",
      "\n",
      "BEST PARAMETERS: {'svc__C': 0.001}\n",
      "\n",
      "\n",
      "\n"
     ]
    }
   ],
   "source": [
    "param_grid = param_grid = {'svc__C': [0.001, 0.01, 0.1, 1, 10, 100],\n",
    "                           \n",
    "                          }\n",
    "\n",
    "pipe = featureNames_svc(5, data, data_target, param_grid, 5)\n",
    "pipe\n"
   ]
  },
  {
   "cell_type": "markdown",
   "metadata": {},
   "source": [
    "#### _The SVC classifier above includes our engineered feature.  Our engineered feature is in top 5 KBest._"
   ]
  },
  {
   "cell_type": "markdown",
   "metadata": {},
   "source": [
    "### SVC WITHOUT ENGINEERED FEATURE"
   ]
  },
  {
   "cell_type": "code",
   "execution_count": 47,
   "metadata": {},
   "outputs": [
    {
     "name": "stdout",
     "output_type": "stream",
     "text": [
      "PIPE STEPS \n",
      "\n",
      "[('scaler', StandardScaler(copy=True, with_mean=True, with_std=True)), ('selector', SelectKBest(k=5, score_func=<function f_classif at 0x11ab436e0>)), ('svc', SVC(C=1.0, cache_size=200, class_weight=None, coef0=0.0,\n",
      "  decision_function_shape='ovr', degree=3, gamma='auto', kernel='rbf',\n",
      "  max_iter=-1, probability=False, random_state=None, shrinking=True,\n",
      "  tol=0.001, verbose=False))]\n",
      "\n",
      "\n",
      "SELECTED FEATURES\n",
      "\n",
      "                Feat_names  Feat_Score\n",
      "1  exercised_stock_options       23.16\n",
      "4        total_stock_value       23.15\n",
      "0                    bonus       20.06\n",
      "2         restricted_stock       12.93\n",
      "3                   salary       11.04\n",
      "\n",
      "\n",
      "SCORE 0.861111111111\n",
      "\n",
      "\n",
      "BEST CROSS-VALIDATION ACCURACY: 0.87850\n",
      "\n",
      "\n",
      "TEST SET SCORE: 0.86111\n",
      "\n",
      "\n",
      "BEST PARAMETERS: {'svc__C': 0.001}\n",
      "\n",
      "\n",
      "\n"
     ]
    }
   ],
   "source": [
    "param_grid = param_grid = {'svc__C': [0.001, 0.01, 0.1, 1, 10, 100],\n",
    "                           \n",
    "                          }\n",
    "# without engineered feature\n",
    "pipe = featureNames_svc(5, data2, data_target, param_grid, 5)\n",
    "pipe"
   ]
  },
  {
   "cell_type": "markdown",
   "metadata": {},
   "source": [
    "### FEATURE SUMMARY\n",
    "\n",
    "Pipleline allowed us to scale our features then we used SelectKBest to find the top 5 features.  I then ran:\n",
    "\n",
    "* GridSearchCV\n",
    "\n",
    "on the C parameter.  The results are shown in the SELECTED FEATURES output above.  We notice in the SELECTED FEATURES output that our engineered feature is in the top 5 of KBest.  \n",
    "\n",
    "For tuning an algorithm section I've decided to build a Gradient Boosting Classifier.  "
   ]
  },
  {
   "cell_type": "markdown",
   "metadata": {},
   "source": [
    "## TUNE AN ALGORITHM\n",
    "### Gradient Boosting Classifier"
   ]
  },
  {
   "cell_type": "markdown",
   "metadata": {},
   "source": [
    "For the first iteration I'll only split the data into training and testing sets.  The second I'll split the data into training, testing, and validation.  I anticipate the first iteration to have better scores simply because of more data allocated."
   ]
  },
  {
   "cell_type": "code",
   "execution_count": 48,
   "metadata": {
    "collapsed": true
   },
   "outputs": [],
   "source": [
    "data3 = data[['bonus', 'salary', 'total_stock_value', 'exercised_stock_options', 'restricted_stock']]"
   ]
  },
  {
   "cell_type": "code",
   "execution_count": 49,
   "metadata": {
    "collapsed": true
   },
   "outputs": [],
   "source": [
    "def treerunner2(X, y, param_grid, cv_n):\n",
    "    # X = dataframe\n",
    "    # y = label\n",
    "    \n",
    "    # split data\n",
    "    from sklearn.model_selection import train_test_split\n",
    "    X_train, X_test, y_train, y_test = train_test_split(X, y)\n",
    "\n",
    "    # scaler, selector, classifier, pipeline\n",
    "    from sklearn.ensemble import GradientBoostingClassifier\n",
    "    from sklearn.pipeline import Pipeline \n",
    "\n",
    "    # create pipeline\n",
    "    estimator = [('clf', GradientBoostingClassifier())] \n",
    "    pipe = Pipeline(estimator)\n",
    "    pipe.fit(X_train, y_train)\n",
    "    \n",
    "    # cv = GridSearch CV\n",
    "    from sklearn.model_selection import GridSearchCV\n",
    "    grid = GridSearchCV(pipe, param_grid=param_grid, cv=cv_n)\n",
    "    grid.fit(X_train, y_train)\n",
    "    \n",
    "    print '\\n\\nBEST PARAMETERS: {}'.format(grid.best_params_)\n",
    "    print '\\n\\nBEST CROSS-VALIDATION ACCURACY: {:.5f}'.format(grid.best_score_)\n",
    "    print '\\n\\nTEST SET SCORE: {:.5f}'.format(grid.score(X_test, y_test))"
   ]
  },
  {
   "cell_type": "code",
   "execution_count": 50,
   "metadata": {},
   "outputs": [
    {
     "name": "stdout",
     "output_type": "stream",
     "text": [
      "\n",
      "\n",
      "BEST PARAMETERS: {'clf__max_depth': 1, 'clf__learning_rate': 0.001, 'clf__n_estimators': 100}\n",
      "\n",
      "\n",
      "BEST CROSS-VALIDATION ACCURACY: 0.86916\n",
      "\n",
      "\n",
      "TEST SET SCORE: 0.88889\n"
     ]
    }
   ],
   "source": [
    "param_grid = param_grid = {'clf__learning_rate': [0.001, 0.01, 0.05, 0.1, 0.2, 0.5, 1, 10, 100],\n",
    "                           'clf__n_estimators': [100, 300, 500, 700],\n",
    "                           'clf__max_depth': [1, 2, 3]\n",
    "                          }\n",
    "\n",
    "pipe = treerunner2(data3, data_target, param_grid, 3)"
   ]
  },
  {
   "cell_type": "code",
   "execution_count": 51,
   "metadata": {
    "collapsed": true
   },
   "outputs": [],
   "source": [
    "-"
   ]
  },
  {
   "cell_type": "code",
   "execution_count": 52,
   "metadata": {},
   "outputs": [
    {
     "name": "stdout",
     "output_type": "stream",
     "text": [
      "\n",
      "\n",
      "BEST PARAMETERS: {'clf__max_depth': 2, 'clf__learning_rate': 100, 'clf__n_estimators': 100}\n",
      "\n",
      "\n",
      "BEST CROSS-VALIDATION ACCURACY: 0.85185\n",
      "\n",
      "\n",
      "TEST SET SCORE: 0.75000\n"
     ]
    }
   ],
   "source": [
    "param_grid = param_grid = {'clf__learning_rate': [0.001, 0.01, 0.05, 0.1, 0.2, 0.5, 1, 10, 100],\n",
    "                           'clf__n_estimators': [100, 300, 500, 700],\n",
    "                           'clf__max_depth': [1, 2, 3]\n",
    "                          }\n",
    "\n",
    "pipe = treerunner21(data3, data_target, param_grid, 3)"
   ]
  },
  {
   "cell_type": "markdown",
   "metadata": {},
   "source": [
    "## VALIDATE AND EVALUATE"
   ]
  },
  {
   "cell_type": "markdown",
   "metadata": {},
   "source": [
    "### DEFINE PARAMETER TUNING\n",
    "\n",
    "The goal of machine learning is to allow computers to calculate complex mathematical computations.  If we have a large dataset and we'd like to make educated predictions based on past observations we can either make these complex statistical computations by hand or allow a few key strokes as input commands into one of many machine learning algorithm.  Our inputs are therefore outputs calculated at light speeds.  Most of us would choose the latter option, hence the quest for greater computational powers without the monotony of our human intervention.  \n",
    "\n",
    "Choosing a machine learning algorithm is simply just the beginning.  Each algorithm has a number of parameters that can be optimized to enhance the output computation.  In our simple experiment here, one parameter we've elected to tune is the learning_rate of our Gradient Boosted Classifier.  The learning_rate controls how strongly each tree tries to correct the mistakes of the previous tree.  Setting a higher learning_rate means each tree can make stronger corrections.  A second parameter we've tuned is n_estimators which adds more trees to the ensemble.  This allows us to increase the complexity of algorithm and allows it more chances to correct mistakes on a training set.  Being able to optimize the performance of an algorithm is the task of parameters, the better we tune our parameter the more profound are the insights we seek from our dataset.  "
   ]
  },
  {
   "cell_type": "markdown",
   "metadata": {},
   "source": [
    "***"
   ]
  },
  {
   "cell_type": "markdown",
   "metadata": {},
   "source": [
    "### EVALUATE\n",
    "\n",
    "To have a better understanding of our algorithm we should consider evaluating it performance.  Running an accuracy score is a great start, however precision and recall scores gives us a better picture of our algorithms performance.  \n",
    "\n",
    "Precision computes the proportion of instances predicted as positive that were correctly evaluated.  In other words it measures how right our classifier is when it says an instance is positive.  \n",
    "\n",
    "Recall counts the proportion of positive instances that were correctly evaluated.  Or simply measures how right our classifier is when faced with a positive instance.\n",
    "\n"
   ]
  },
  {
   "cell_type": "markdown",
   "metadata": {},
   "source": [
    "***"
   ]
  },
  {
   "cell_type": "markdown",
   "metadata": {},
   "source": [
    "### VALIDATE\n",
    "\n",
    "Before a machine learning algorithm can be released into the wild we need to test and validate if first.  One of the better reasons for testing and validation is if an algorithm bites it's always better to find out about it in a controlled testing environment rather than out in public.  It may help you save face.\n",
    "\n",
    "There are a number of steps we can take to make sure our predictions are without many flaws.  We first should split our data into training and testing sets.  The reason for this is we don't want to train and test on the same data, it will cause over fitting.  An additional and recommended step we can take is to use cross-validation.  For example we can state we want to cross-validate our data into 5 folds into approximately equal parts.  Cross-validation will create 5 models and the first model will be trained using the first fold as the test set and the reaming 4 folds as the training set.  Our second model will use the the 2nd fold as the test set and folds 1, 3, 4, and 5 as the training set.  Cross validation is extremely important if you wish to not to allow information to leak between testing and training which will cause over fitting.  \n",
    "\n",
    "We can simply wrap most of our validation tasks into a Pipeline wrapper and use GridSeachCV to iterate all parameters we're interested in optimizing."
   ]
  },
  {
   "cell_type": "markdown",
   "metadata": {},
   "source": [
    "***"
   ]
  },
  {
   "cell_type": "markdown",
   "metadata": {},
   "source": [
    "### EXPLAINING PRECISION AND RECALL\n",
    "\n",
    "__Precision__ is defined as the proportion of instances predicted as positive that were correctly evaluated.  In other words it measures how right our classifier is when it says an instance is positive.  \n",
    "\n",
    "__Recall__ counts the proportion of positive instances that were correctly evaluated.  In other words it measures how right our classifier is when faced with a positive instance (POI). "
   ]
  },
  {
   "cell_type": "markdown",
   "metadata": {
    "collapsed": true
   },
   "source": [
    "Below we will adjust the parameters of our estimator and run it through StratifiedShuffleSplit cross validation.  We will also print a confusion matrix and a classification report."
   ]
  },
  {
   "cell_type": "code",
   "execution_count": 53,
   "metadata": {
    "collapsed": true
   },
   "outputs": [],
   "source": [
    "def treerunner1(X, y, cv):\n",
    "    # k = number of features to select\n",
    "    # X = dataframe\n",
    "    # y = label\n",
    "    \n",
    "    # split data\n",
    "    from sklearn.model_selection import train_test_split\n",
    "    X_train, X_test, y_train, y_test = train_test_split(X, y)\n",
    "\n",
    "    # scaler, selector, classifier, pipeline\n",
    "    from sklearn.ensemble import GradientBoostingClassifier\n",
    "    from sklearn.pipeline import Pipeline \n",
    "\n",
    "    # create pipeline\n",
    "    estimator = [('clf', GradientBoostingClassifier(max_depth=3,\n",
    "                                                   learning_rate=0.01,\n",
    "                                                   n_estimators=300))] \n",
    "    pipe = Pipeline(estimator)\n",
    "    pipe.fit(X_train, y_train)\n",
    "    \n",
    "    # cross validation\n",
    "    from sklearn.model_selection import StratifiedShuffleSplit\n",
    "    cv = StratifiedShuffleSplit(n_splits=cv, test_size=0.9)\n",
    "    cv = cv.get_n_splits(pipe)\n",
    "    #print cv\n",
    "    \n",
    "    # prdict on X_test\n",
    "    pred = pipe.predict(X_test)\n",
    "    \n",
    "    # confusion matrix\n",
    "    from sklearn.metrics import confusion_matrix\n",
    "    confusion = confusion_matrix(y_test, pred)\n",
    "    print '\\nCONFUSION MATRIX\\n', confusion\n",
    "    print '\\nUNIQUE PREDICTED LABELS: ', np.unique(pred)\n",
    "    \n",
    "    # classification\n",
    "    from sklearn.metrics import classification_report\n",
    "    print '\\nCLASSIFICATION REPORT\\n'\n",
    "    print classification_report(y_test, pred, target_names=['not poi', 'poi'])\n",
    "    \n",
    "    \n",
    "    print '\\n\\n'"
   ]
  },
  {
   "cell_type": "code",
   "execution_count": 54,
   "metadata": {},
   "outputs": [
    {
     "name": "stdout",
     "output_type": "stream",
     "text": [
      "\n",
      "CONFUSION MATRIX\n",
      "[[28  3]\n",
      " [ 5  0]]\n",
      "\n",
      "UNIQUE PREDICTED LABELS:  [ 0.  1.]\n",
      "\n",
      "CLASSIFICATION REPORT\n",
      "\n",
      "             precision    recall  f1-score   support\n",
      "\n",
      "    not poi       0.85      0.90      0.88        31\n",
      "        poi       0.00      0.00      0.00         5\n",
      "\n",
      "avg / total       0.73      0.78      0.75        36\n",
      "\n",
      "\n",
      "\n",
      "\n"
     ]
    }
   ],
   "source": [
    "treerunner1(data, data_target, 10)"
   ]
  },
  {
   "cell_type": "markdown",
   "metadata": {},
   "source": [
    "\tAccuracy: 0.81857\tPrecision: 0.34899\tRecall: 0.31200\tF1: 0.32946\tF2: 0.31876\n",
    "\tTotal predictions: 14000\tTrue positives:  624\tFalse positives: 1164\tFalse negatives: 1376\tTrue negatives: 10836\n",
    "\n"
   ]
  },
  {
   "cell_type": "markdown",
   "metadata": {
    "collapsed": true
   },
   "source": [
    "<br></br>\n",
    "<br></br>\n",
    "<br></br>\n",
    "<br></br>\n",
    "<br></br>"
   ]
  }
 ],
 "metadata": {
  "kernelspec": {
   "display_name": "Python [conda env:py2]",
   "language": "python",
   "name": "conda-env-py2-py"
  },
  "language_info": {
   "codemirror_mode": {
    "name": "ipython",
    "version": 2
   },
   "file_extension": ".py",
   "mimetype": "text/x-python",
   "name": "python",
   "nbconvert_exporter": "python",
   "pygments_lexer": "ipython2",
   "version": "2.7.14"
  }
 },
 "nbformat": 4,
 "nbformat_minor": 2
}
